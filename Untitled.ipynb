{
 "cells": [
  {
   "cell_type": "code",
   "execution_count": 1,
   "metadata": {},
   "outputs": [],
   "source": [
    "import pandas as pd \n",
    "\n",
    "data = pd.read_csv(\"abalone.data\", names=[\"sex\", \"length\", \"diameter\", \"height\", \"whole_weight\",\n",
    "                                           \"shucked_weight\", \"Viscera_weight\", \"shell_weight\", \"rings\"] )"
   ]
  },
  {
   "cell_type": "code",
   "execution_count": 2,
   "metadata": {},
   "outputs": [],
   "source": [
    "data = data.join(pd.get_dummies(data[\"sex\"]))\n",
    "data = data.drop(columns=[\"sex\"]) "
   ]
  },
  {
   "cell_type": "code",
   "execution_count": 3,
   "metadata": {},
   "outputs": [],
   "source": [
    "X = data.drop(columns=[\"rings\"])\n",
    "y = data[\"rings\"]"
   ]
  },
  {
   "cell_type": "code",
   "execution_count": 4,
   "metadata": {
    "scrolled": true
   },
   "outputs": [
    {
     "name": "stdout",
     "output_type": "stream",
     "text": [
      "Rmse: 2.42 (+/- 1.19)\n",
      "Mae: 1.85 (+/- 1.18)\n"
     ]
    }
   ],
   "source": [
    "from utils.validation import validation_cv\n",
    "from sklearn.ensemble import RandomForestRegressor\n",
    "rf = RandomForestRegressor(n_estimators=100) \n",
    "validation_cv(rf, X, y, \"ts\", 5, problem='reg')  "
   ]
  },
  {
   "cell_type": "code",
   "execution_count": 4,
   "metadata": {},
   "outputs": [
    {
     "name": "stdout",
     "output_type": "stream",
     "text": [
      "correlation between rings and sex, length, diameter, height, whole_weight, shucked_weight, Viscera_weight, shell_weight, rings\n",
      "Rings 1.00\n",
      "Shell_weight 0.63\n",
      "Diameter 0.57\n",
      "Height 0.56\n",
      "Length 0.56\n",
      "Whole_weight 0.54\n",
      "Viscera_weight 0.50\n",
      "Shucked_weight 0.42\n"
     ]
    }
   ],
   "source": [
    "from utils.analyse import corr_column, describe\n",
    "corr_matrix = corr_column(data, \"rings\")"
   ]
  },
  {
   "cell_type": "code",
   "execution_count": 3,
   "metadata": {
    "scrolled": true
   },
   "outputs": [
    {
     "data": {
      "text/plain": [
       "(            length     diameter       height  whole_weight  shucked_weight  \\\n",
       " count  4177.000000  4177.000000  4177.000000   4177.000000     4177.000000   \n",
       " mean      0.523992     0.407881     0.139516      0.828742        0.359367   \n",
       " std       0.120093     0.099240     0.041827      0.490389        0.221963   \n",
       " min       0.075000     0.055000     0.000000      0.002000        0.001000   \n",
       " 25%       0.450000     0.350000     0.115000      0.441500        0.186000   \n",
       " 50%       0.545000     0.425000     0.140000      0.799500        0.336000   \n",
       " 75%       0.615000     0.480000     0.165000      1.153000        0.502000   \n",
       " max       0.815000     0.650000     1.130000      2.825500        1.488000   \n",
       " \n",
       "        Viscera_weight  shell_weight        rings  \n",
       " count     4177.000000   4177.000000  4177.000000  \n",
       " mean         0.180594      0.238831     9.933684  \n",
       " std          0.109614      0.139203     3.224169  \n",
       " min          0.000500      0.001500     1.000000  \n",
       " 25%          0.093500      0.130000     8.000000  \n",
       " 50%          0.171000      0.234000     9.000000  \n",
       " 75%          0.253000      0.329000    11.000000  \n",
       " max          0.760000      1.005000    29.000000  , None)"
      ]
     },
     "execution_count": 3,
     "metadata": {},
     "output_type": "execute_result"
    }
   ],
   "source": [
    "from utils.analyse import describe\n",
    "describe(data)"
   ]
  }
 ],
 "metadata": {
  "kernelspec": {
   "display_name": "Python 3",
   "language": "python",
   "name": "python3"
  },
  "language_info": {
   "codemirror_mode": {
    "name": "ipython",
    "version": 3
   },
   "file_extension": ".py",
   "mimetype": "text/x-python",
   "name": "python",
   "nbconvert_exporter": "python",
   "pygments_lexer": "ipython3",
   "version": "3.7.1"
  }
 },
 "nbformat": 4,
 "nbformat_minor": 2
}
