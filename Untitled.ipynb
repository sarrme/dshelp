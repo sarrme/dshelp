{
 "cells": [
  {
   "cell_type": "code",
   "execution_count": 5,
   "metadata": {},
   "outputs": [],
   "source": [
    "import pandas as pd \n",
    "\n",
    "data = pd.read_csv(\"abalone.data\", names=[\"sex\", \"length\", \"diameter\", \"height\", \"whole_weight\",\n",
    "                                           \"shucked_weight\", \"Viscera_weight\", \"shell_weight\", \"rings\"] )"
   ]
  },
  {
   "cell_type": "code",
   "execution_count": 2,
   "metadata": {},
   "outputs": [],
   "source": [
    "data = data.join(pd.get_dummies(data[\"sex\"]))\n",
    "data = data.drop(columns=[\"sex\"]) "
   ]
  },
  {
   "cell_type": "code",
   "execution_count": 3,
   "metadata": {},
   "outputs": [],
   "source": [
    "X = data.drop(columns=[\"rings\"])\n",
    "y = data[\"rings\"]"
   ]
  },
  {
   "cell_type": "code",
   "execution_count": 12,
   "metadata": {},
   "outputs": [
    {
     "data": {
      "text/plain": [
       "1       1\n",
       "2       1\n",
       "3      15\n",
       "4      57\n",
       "5     115\n",
       "6     259\n",
       "7     391\n",
       "8     568\n",
       "9     689\n",
       "10    634\n",
       "11    487\n",
       "12    267\n",
       "13    203\n",
       "14    126\n",
       "15    103\n",
       "16     67\n",
       "17     58\n",
       "18     42\n",
       "19     32\n",
       "20     26\n",
       "21     14\n",
       "22      6\n",
       "23      9\n",
       "24      2\n",
       "25      1\n",
       "26      1\n",
       "27      2\n",
       "29      1\n",
       "dtype: int64"
      ]
     },
     "execution_count": 12,
     "metadata": {},
     "output_type": "execute_result"
    }
   ],
   "source": [
    "pd.get_dummies(y).sum(axis=0) "
   ]
  },
  {
   "cell_type": "code",
   "execution_count": 14,
   "metadata": {
    "scrolled": true
   },
   "outputs": [
    {
     "name": "stdout",
     "output_type": "stream",
     "text": [
      "Test_neg_mean_absolute_error: -1.59 (+/- 0.66)\n",
      "Test_neg_mean_squared_error: -5.06 (+/- 4.85)\n"
     ]
    }
   ],
   "source": [
    "from utils.validation import validation_cv\n",
    "from sklearn.ensemble import RandomForestRegressor\n",
    "rf = RandomForestRegressor(n_estimators=100) \n",
    "validation_cv(rf, X, y, \"cv\", 5, problem='reg')  "
   ]
  }
 ],
 "metadata": {
  "kernelspec": {
   "display_name": "Python 3",
   "language": "python",
   "name": "python3"
  },
  "language_info": {
   "codemirror_mode": {
    "name": "ipython",
    "version": 3
   },
   "file_extension": ".py",
   "mimetype": "text/x-python",
   "name": "python",
   "nbconvert_exporter": "python",
   "pygments_lexer": "ipython3",
   "version": "3.7.1"
  }
 },
 "nbformat": 4,
 "nbformat_minor": 2
}
